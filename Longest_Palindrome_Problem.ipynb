{
 "cells": [
  {
   "cell_type": "code",
   "execution_count": 1,
   "metadata": {},
   "outputs": [],
   "source": [
    "def findStreak(a, start, end, word ):\n",
    " \n",
    "    if start > 0 and end <len(a) and a[start-1] == a[end]:\n",
    "        return findStreak(a, start-1, end+1, a[start-1]+word+a[end])\n",
    "    return word\n",
    "\n",
    "def findLongestPalindrome(arr, resultCollector=None):\n",
    "    if len(arr) ==1:\n",
    "        return arr\n",
    "    if len(set(arr)) ==1:\n",
    "        return arr\n",
    "    if not resultCollector:\n",
    "        resultCollector = {'needle': 0, 'seed': {}, 'terminate': len(arr), 'longest': ''}\n",
    "    start = resultCollector.get('needle')\n",
    "    end = resultCollector.get('terminate')\n",
    "    while start < end-1:\n",
    "        \n",
    "        if arr[start] == arr[start+1]:\n",
    "            resultCollector['seed'][(start, start+2)]=arr[start:start+2]\n",
    "            tmp = findStreak(arr,start, start+2, arr[start:start+2])\n",
    "            if len(tmp) > len(resultCollector['longest']):\n",
    "                resultCollector['longest'] = tmp\n",
    "        \n",
    "        elif start+2 < end and arr[start] == arr[start+2]:\n",
    "            resultCollector['seed'][(start, start+3)]=arr[start:start+3]\n",
    "            tmp = findStreak(arr,start, start+3, arr[start:start+3])\n",
    "            if len(tmp) > len(resultCollector['longest']):\n",
    "                resultCollector['longest'] = tmp\n",
    "        start+=1\n",
    "    \n",
    "    \n",
    "    return resultCollector['longest']\n"
   ]
  },
  {
   "cell_type": "code",
   "execution_count": 2,
   "metadata": {},
   "outputs": [
    {
     "data": {
      "text/plain": [
       "'malayalam'"
      ]
     },
     "execution_count": 2,
     "metadata": {},
     "output_type": "execute_result"
    }
   ],
   "source": [
    "findLongestPalindrome('blah0halkbhadroklokkolkrdahmalayalamoblah0halkbhadroklokkolkrdahmalayalam')"
   ]
  },
  {
   "cell_type": "code",
   "execution_count": 3,
   "metadata": {},
   "outputs": [
    {
     "data": {
      "text/plain": [
       "'bob'"
      ]
     },
     "execution_count": 3,
     "metadata": {},
     "output_type": "execute_result"
    }
   ],
   "source": [
    "findLongestPalindrome('tbob')"
   ]
  },
  {
   "cell_type": "code",
   "execution_count": null,
   "metadata": {},
   "outputs": [],
   "source": []
  }
 ],
 "metadata": {
  "kernelspec": {
   "display_name": "Python 3",
   "language": "python",
   "name": "python3"
  },
  "language_info": {
   "codemirror_mode": {
    "name": "ipython",
    "version": 3
   },
   "file_extension": ".py",
   "mimetype": "text/x-python",
   "name": "python",
   "nbconvert_exporter": "python",
   "pygments_lexer": "ipython3",
   "version": "3.7.4"
  }
 },
 "nbformat": 4,
 "nbformat_minor": 2
}
